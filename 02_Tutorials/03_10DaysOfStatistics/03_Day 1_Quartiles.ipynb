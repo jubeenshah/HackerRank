{
 "cells": [
  {
   "cell_type": "code",
   "execution_count": 19,
   "metadata": {
    "collapsed": false
   },
   "outputs": [
    {
     "name": "stdout",
     "output_type": "stream",
     "text": [
      "10\n",
      "3 7 8 5 12 14 21 15 18 14\n"
     ]
    }
   ],
   "source": [
    "from statistics import median\n",
    "numberOfinputs = int(input())\n",
    "arrayOfInput = list(map(int, input().split()))"
   ]
  },
  {
   "cell_type": "code",
   "execution_count": 20,
   "metadata": {
    "collapsed": false
   },
   "outputs": [
    {
     "name": "stdout",
     "output_type": "stream",
     "text": [
      "7\n",
      "13.0\n",
      "15\n"
     ]
    }
   ],
   "source": [
    "arrayOfInput = sorted(arrayOfInput)\n",
    "leftPart = []\n",
    "rightPart = []\n",
    "if len(arrayOfInput) % 2 != 0:\n",
    "    leftPart = arrayOfInput[:int(len(arrayOfInput) / 2)]\n",
    "    rightPart = arrayOfInput[int(len(arrayOfInput) / 2) + 1 : ]\n",
    "else:\n",
    "    leftPart = arrayOfInput[:int(len(arrayOfInput) / 2) ]\n",
    "    rightPart = arrayOfInput[int(len(arrayOfInput) / 2) :]\n",
    "\n",
    "    \n",
    "print(int(median(leftPart)))\n",
    "print(int(median(arrayOfInput)))\n",
    "print(int(median(rightPart)))\n"
   ]
  },
  {
   "cell_type": "code",
   "execution_count": null,
   "metadata": {
    "collapsed": true
   },
   "outputs": [],
   "source": []
  }
 ],
 "metadata": {
  "kernelspec": {
   "display_name": "Python 3",
   "language": "python",
   "name": "python3"
  },
  "language_info": {
   "codemirror_mode": {
    "name": "ipython",
    "version": 3
   },
   "file_extension": ".py",
   "mimetype": "text/x-python",
   "name": "python",
   "nbconvert_exporter": "python",
   "pygments_lexer": "ipython3",
   "version": "3.6.0"
  }
 },
 "nbformat": 4,
 "nbformat_minor": 2
}
