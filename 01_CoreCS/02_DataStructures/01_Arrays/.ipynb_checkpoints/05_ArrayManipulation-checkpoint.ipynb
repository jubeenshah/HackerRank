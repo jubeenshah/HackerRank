{
 "cells": [
  {
   "cell_type": "code",
   "execution_count": 118,
   "metadata": {
    "collapsed": false
   },
   "outputs": [
    {
     "name": "stdout",
     "output_type": "stream",
     "text": [
      "5 3\n",
      "1 2 100\n",
      "2 5 100\n",
      "3 4 100\n",
      "200\n"
     ]
    }
   ],
   "source": [
    "n, inputs = [int(n) for n in input().split(\" \")]\n",
    "list = [0]*(n+1)\n",
    "for _ in range(inputs):\n",
    "    x, y, incr = [int(n) for n in input().split(\" \")]\n",
    "    list[x-1] += incr\n",
    "    if((y)<=len(list)): list[y] -= incr;\n",
    "max = x = 0\n",
    "for i in list:\n",
    "   x=x+i;\n",
    "   if(max<x): max=x;\n",
    "print(max)"
   ]
  }
 ],
 "metadata": {
  "kernelspec": {
   "display_name": "Python 3",
   "language": "python",
   "name": "python3"
  },
  "language_info": {
   "codemirror_mode": {
    "name": "ipython",
    "version": 3
   },
   "file_extension": ".py",
   "mimetype": "text/x-python",
   "name": "python",
   "nbconvert_exporter": "python",
   "pygments_lexer": "ipython3",
   "version": "3.6.0"
  }
 },
 "nbformat": 4,
 "nbformat_minor": 2
}
