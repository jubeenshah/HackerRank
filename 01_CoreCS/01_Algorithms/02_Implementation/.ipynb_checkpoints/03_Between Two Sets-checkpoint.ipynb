{
 "cells": [
  {
   "cell_type": "code",
   "execution_count": 3,
   "metadata": {
    "collapsed": false
   },
   "outputs": [
    {
     "name": "stdout",
     "output_type": "stream",
     "text": [
      "1 2\n",
      "1 \n",
      "72 48\n",
      "8\n"
     ]
    }
   ],
   "source": [
    "import sys\n",
    "from functools import reduce\n",
    "from math import gcd\n",
    "\n",
    "input()\n",
    "a = map(int,input().strip().split())\n",
    "b = map(int,input().strip().split())\n",
    "lcm_a = reduce(lambda x,y: x*y//gcd(x,y), a)\n",
    "gcd_b = reduce(gcd, b)\n",
    "print(sum(1 for x in range(lcm_a,gcd_b+1,lcm_a) if gcd_b%x==0))"
   ]
  },
  {
   "cell_type": "code",
   "execution_count": null,
   "metadata": {
    "collapsed": true
   },
   "outputs": [],
   "source": []
  }
 ],
 "metadata": {
  "kernelspec": {
   "display_name": "Python 3",
   "language": "python",
   "name": "python3"
  },
  "language_info": {
   "codemirror_mode": {
    "name": "ipython",
    "version": 3
   },
   "file_extension": ".py",
   "mimetype": "text/x-python",
   "name": "python",
   "nbconvert_exporter": "python",
   "pygments_lexer": "ipython3",
   "version": "3.6.0"
  }
 },
 "nbformat": 4,
 "nbformat_minor": 2
}
