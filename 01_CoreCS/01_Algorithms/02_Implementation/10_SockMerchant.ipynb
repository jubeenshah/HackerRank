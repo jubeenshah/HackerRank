{
 "cells": [
  {
   "cell_type": "code",
   "execution_count": 42,
   "metadata": {},
   "outputs": [
    {
     "name": "stdout",
     "output_type": "stream",
     "text": [
      "100\n",
      "50 49 38 49 78 36 25 96 10 67 78 58 98 8 53 1 4 7 29 6 59 93 74 3 67 47 12 85 84 40 81 85 89 70 33 66 6 9 13 67 75 42 24 73 49 28 25 5 86 53 10 44 45 35 47 11 81 10 47 16 49 79 52 89 100 36 6 57 96 18 23 71 11 99 95 12 78 19 16 64 23 77 7 19 11 5 81 43 14 27 11 63 57 62 3 56 50 9 13 45\n",
      "28\n"
     ]
    }
   ],
   "source": [
    "from math import floor\n",
    "totalNumberOfSocks = int(input())\n",
    "listOfSocks = list(map(int, input().split()))\n",
    "\n",
    "count = {}\n",
    "from math import floor\n",
    "for item in listOfSocks:\n",
    "    count[item] = listOfSocks.count(item)\n",
    "#print(count)\n",
    "\n",
    "numberOfPair = 0\n",
    "for i in count:\n",
    "    numberOfPair = numberOfPair + floor(count[i] / 2)\n",
    "\n",
    "print(numberOfPair)"
   ]
  }
 ],
 "metadata": {
  "kernelspec": {
   "display_name": "Python 3",
   "language": "python",
   "name": "python3"
  },
  "language_info": {
   "codemirror_mode": {
    "name": "ipython",
    "version": 3
   },
   "file_extension": ".py",
   "mimetype": "text/x-python",
   "name": "python",
   "nbconvert_exporter": "python",
   "pygments_lexer": "ipython3",
   "version": "3.6.0"
  }
 },
 "nbformat": 4,
 "nbformat_minor": 2
}
