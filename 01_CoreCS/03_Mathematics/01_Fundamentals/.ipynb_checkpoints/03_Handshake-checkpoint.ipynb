{
 "cells": [
  {
   "cell_type": "code",
   "execution_count": 10,
   "metadata": {
    "collapsed": true
   },
   "outputs": [],
   "source": [
    "from math import factorial"
   ]
  },
  {
   "cell_type": "code",
   "execution_count": 12,
   "metadata": {},
   "outputs": [
    {
     "name": "stdout",
     "output_type": "stream",
     "text": [
      "5\n",
      "1\n",
      "0\n",
      "2\n",
      "1\n",
      "3\n",
      "3\n",
      "4\n",
      "6\n",
      "5\n",
      "10\n"
     ]
    }
   ],
   "source": [
    "def handshake(i):\n",
    "    if i == 1 or i == 0:\n",
    "        print(\"0\")\n",
    "    else:\n",
    "        numerator = factorial (i)\n",
    "        denominator = factorial (i - 2) * factorial (2)\n",
    "        print(int(numerator/denominator))\n",
    "t = int(input())\n",
    "\n",
    "for t_itr in range(t):\n",
    "    n = int(input())\n",
    "    handshake(n)\n",
    "    "
   ]
  }
 ],
 "metadata": {
  "kernelspec": {
   "display_name": "Python 3",
   "language": "python",
   "name": "python3"
  },
  "language_info": {
   "codemirror_mode": {
    "name": "ipython",
    "version": 3
   },
   "file_extension": ".py",
   "mimetype": "text/x-python",
   "name": "python",
   "nbconvert_exporter": "python",
   "pygments_lexer": "ipython3",
   "version": "3.6.0"
  }
 },
 "nbformat": 4,
 "nbformat_minor": 2
}
