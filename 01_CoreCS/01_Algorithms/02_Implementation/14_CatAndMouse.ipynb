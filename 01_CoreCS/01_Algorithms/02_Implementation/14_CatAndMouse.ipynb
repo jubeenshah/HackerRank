{
 "cells": [
  {
   "cell_type": "code",
   "execution_count": 17,
   "metadata": {},
   "outputs": [
    {
     "name": "stdout",
     "output_type": "stream",
     "text": [
      "2\n",
      "1 2 3\n",
      "Cat B\n",
      "1 3 2\n",
      "Mouse C\n"
     ]
    }
   ],
   "source": [
    "q = int(input())\n",
    "for q_itr in range(q):\n",
    "    xyz = input().split()\n",
    "    x, y, z = int(xyz[0]), int(xyz[1]), int(xyz[2])\n",
    "    result = catAndMouse(x, y, z)"
   ]
  },
  {
   "cell_type": "code",
   "execution_count": 16,
   "metadata": {},
   "outputs": [],
   "source": [
    "def catAndMouse(x, y, z):\n",
    "    print(\"Cat B\")  if abs(z - x) > abs(z - y) else (print (\"Cat A\") if abs(z - y) > abs(z - x) else print(\"Mouse C\"))"
   ]
  },
  {
   "cell_type": "code",
   "execution_count": null,
   "metadata": {
    "collapsed": true
   },
   "outputs": [],
   "source": []
  }
 ],
 "metadata": {
  "kernelspec": {
   "display_name": "Python 3",
   "language": "python",
   "name": "python3"
  },
  "language_info": {
   "codemirror_mode": {
    "name": "ipython",
    "version": 3
   },
   "file_extension": ".py",
   "mimetype": "text/x-python",
   "name": "python",
   "nbconvert_exporter": "python",
   "pygments_lexer": "ipython3",
   "version": "3.6.0"
  }
 },
 "nbformat": 4,
 "nbformat_minor": 2
}
