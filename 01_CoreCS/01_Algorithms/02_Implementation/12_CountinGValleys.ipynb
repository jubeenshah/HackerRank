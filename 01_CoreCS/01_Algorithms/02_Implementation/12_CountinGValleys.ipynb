{
 "cells": [
  {
   "cell_type": "code",
   "execution_count": 12,
   "metadata": {},
   "outputs": [
    {
     "name": "stdout",
     "output_type": "stream",
     "text": [
      "12\n",
      "DDUUDDUDUUUD\n",
      "2\n"
     ]
    }
   ],
   "source": [
    "numberOfSteps = int(input())\n",
    "path = str(input())\n",
    "\n",
    "level = 0\n",
    "numberOfValleys = 0\n",
    "\n",
    "for charachter in path:\n",
    "    if charachter == \"U\": \n",
    "        level = level + 1\n",
    "    if charachter == \"D\": \n",
    "        level = level - 1\n",
    "    if level == 0 and charachter == \"U\" : \n",
    "        numberOfValleys = numberOfValleys + 1\n",
    "\n",
    "print(numberOfValleys)"
   ]
  },
  {
   "cell_type": "code",
   "execution_count": null,
   "metadata": {
    "collapsed": true
   },
   "outputs": [],
   "source": []
  }
 ],
 "metadata": {
  "kernelspec": {
   "display_name": "Python 3",
   "language": "python",
   "name": "python3"
  },
  "language_info": {
   "codemirror_mode": {
    "name": "ipython",
    "version": 3
   },
   "file_extension": ".py",
   "mimetype": "text/x-python",
   "name": "python",
   "nbconvert_exporter": "python",
   "pygments_lexer": "ipython3",
   "version": "3.6.0"
  }
 },
 "nbformat": 4,
 "nbformat_minor": 2
}
