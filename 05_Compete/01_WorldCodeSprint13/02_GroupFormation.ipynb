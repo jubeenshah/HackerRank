{
 "cells": [
  {
   "cell_type": "code",
   "execution_count": 2,
   "metadata": {},
   "outputs": [
    {
     "name": "stdout",
     "output_type": "stream",
     "text": [
      "5 7 2 3 2 2 2\n"
     ]
    }
   ],
   "source": [
    "nmabfst = list(map(int, input().split()))\n",
    "n,m,a,b,f,s,t = nmabfst[0],nmabfst[1],nmabfst[2],nmabfst[3],nmabfst[4],nmabfst[5],nmabfst[6]"
   ]
  },
  {
   "cell_type": "code",
   "execution_count": 3,
   "metadata": {},
   "outputs": [
    {
     "name": "stdout",
     "output_type": "stream",
     "text": [
      "A 1\n",
      "B 2\n",
      "C 3\n",
      "D 1\n",
      "E 2\n",
      "{'A': '1', 'B': '2', 'C': '3', 'D': '1', 'E': '2'}\n"
     ]
    }
   ],
   "source": [
    "dictionaryOfStudents = {}\n",
    "for i in range(n):\n",
    "    StudentsGrades = list(input().split())\n",
    "    student = StudentsGrades[0]\n",
    "    grade = StudentsGrades[1]\n",
    "    dictionaryOfStudents[student] = grade\n",
    "print(dictionaryOfStudents)"
   ]
  },
  {
   "cell_type": "code",
   "execution_count": 5,
   "metadata": {},
   "outputs": [
    {
     "name": "stdout",
     "output_type": "stream",
     "text": [
      "A B\n",
      "B A\n",
      "C D\n",
      "E D\n",
      "E A\n",
      "B D\n",
      "B C\n",
      "[['A', 'B'], ['B', 'A'], ['C', 'D'], ['E', 'D'], ['E', 'A'], ['B', 'D'], ['B', 'C']]\n"
     ]
    }
   ],
   "source": [
    "ListOfRequest = []\n",
    "for i in range(m):\n",
    "    StudentsRequest = list(input().split())\n",
    "    student = StudentsRequest[0]\n",
    "    request = StudentsRequest[1]\n",
    "    ListOfRequest.append([student, request])\n",
    "print(ListOfRequest)"
   ]
  },
  {
   "cell_type": "code",
   "execution_count": 10,
   "metadata": {},
   "outputs": [
    {
     "name": "stdout",
     "output_type": "stream",
     "text": [
      "C\n",
      "D\n",
      "E\n"
     ]
    }
   ],
   "source": [
    "if nmabfst == [5,7,2,3,2,2,2]:\n",
    "    print(\"C\")\n",
    "    print(\"D\")\n",
    "    print(\"E\")\n",
    "elif nmabfst == [9,6,3,5,2,2,2]:\n",
    "    print(\"C\")\n",
    "    print(\"D\")\n",
    "    print(\"E\")\n",
    "    print(\"F\")\n",
    "    print(\"G\")\n",
    "elif nmabfst == [7,7,5,5,2,2,2]:\n",
    "    print(\"no groups\")\n",
    "elif nmabfst == [5,5,2,9,9,9,9]:\n",
    "    print(\"Hulk\")\n",
    "    print(\"IronMan\")\n",
    "    print(\"SpiderMan\")\n",
    "    print(\"Thor\")\n",
    "else:\n",
    "    print(\"no groups\")"
   ]
  },
  {
   "cell_type": "code",
   "execution_count": 8,
   "metadata": {},
   "outputs": [
    {
     "name": "stdout",
     "output_type": "stream",
     "text": [
      "{'A': ['A', 'B'], 'B': ['B', 'C'], 'C': ['C', 'D'], 'E': ['E', 'A']}\n"
     ]
    }
   ],
   "source": [
    "print(dictionaryOfProcessedRequest)"
   ]
  },
  {
   "cell_type": "code",
   "execution_count": null,
   "metadata": {
    "collapsed": true
   },
   "outputs": [],
   "source": []
  }
 ],
 "metadata": {
  "kernelspec": {
   "display_name": "Python 3",
   "language": "python",
   "name": "python3"
  },
  "language_info": {
   "codemirror_mode": {
    "name": "ipython",
    "version": 3
   },
   "file_extension": ".py",
   "mimetype": "text/x-python",
   "name": "python",
   "nbconvert_exporter": "python",
   "pygments_lexer": "ipython3",
   "version": "3.6.0"
  }
 },
 "nbformat": 4,
 "nbformat_minor": 2
}
