{
 "cells": [
  {
   "cell_type": "code",
   "execution_count": 1,
   "metadata": {},
   "outputs": [
    {
     "data": {
      "text/plain": [
       "Fraction(17, 42)"
      ]
     },
     "execution_count": 1,
     "metadata": {},
     "output_type": "execute_result"
    }
   ],
   "source": [
    "import itertools\n",
    "from fractions import Fraction\n",
    "\n",
    "X = [\"b\",\"b\",\"b\",\"r\",\"r\",\"r\",\"r\"]\n",
    "Y = [\"b\",\"b\",\"b\",\"b\",\"r\",\"r\",\"r\",\"r\",\"r\"]\n",
    "Z = [\"b\",\"b\",\"b\",\"b\",\"r\",\"r\",\"r\",\"r\"]\n",
    "\n",
    "r = [(i)for i in itertools.product(X,Y,Z)]\n",
    "e = list(map(lambda x : x.count('r') == 2 and x.count('b') == 1,r))\n",
    "Fraction(e.count(True),len(e))"
   ]
  }
 ],
 "metadata": {
  "kernelspec": {
   "display_name": "Python 3",
   "language": "python",
   "name": "python3"
  },
  "language_info": {
   "codemirror_mode": {
    "name": "ipython",
    "version": 3
   },
   "file_extension": ".py",
   "mimetype": "text/x-python",
   "name": "python",
   "nbconvert_exporter": "python",
   "pygments_lexer": "ipython3",
   "version": "3.6.0"
  }
 },
 "nbformat": 4,
 "nbformat_minor": 2
}
