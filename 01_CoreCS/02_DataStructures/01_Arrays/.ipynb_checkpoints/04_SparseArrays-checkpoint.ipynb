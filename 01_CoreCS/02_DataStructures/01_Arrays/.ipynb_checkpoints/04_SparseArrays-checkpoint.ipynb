{
 "cells": [
  {
   "cell_type": "code",
   "execution_count": 12,
   "metadata": {
    "collapsed": false
   },
   "outputs": [
    {
     "name": "stdout",
     "output_type": "stream",
     "text": [
      "4\n",
      "aba\n",
      "baba\n",
      "aba\n",
      "xzxb\n",
      "3\n",
      "aba\n",
      "xzxb\n",
      "ab\n",
      "2\n",
      "1\n",
      "0\n"
     ]
    }
   ],
   "source": [
    "#!/bin/python3\n",
    "\n",
    "import math\n",
    "import os\n",
    "import random\n",
    "import re\n",
    "import sys\n",
    "\n",
    "# Complete the solve function below.\n",
    "def solve(strings, queries):\n",
    "    for i in queries:\n",
    "        print(strings.count(i))\n",
    "\n",
    "if __name__ == '__main__':\n",
    "\n",
    "    strings_count = int(input())\n",
    "\n",
    "    strings = []\n",
    "\n",
    "    for _ in range(strings_count):\n",
    "        strings_item = input()\n",
    "        strings.append(strings_item)\n",
    "\n",
    "    queries_count = int(input())\n",
    "\n",
    "    queries = []\n",
    "\n",
    "    for _ in range(queries_count):\n",
    "        queries_item = input()\n",
    "        queries.append(queries_item)\n",
    "\n",
    "    res = solve(strings, queries)\n"
   ]
  }
 ],
 "metadata": {
  "kernelspec": {
   "display_name": "Python 3",
   "language": "python",
   "name": "python3"
  },
  "language_info": {
   "codemirror_mode": {
    "name": "ipython",
    "version": 3
   },
   "file_extension": ".py",
   "mimetype": "text/x-python",
   "name": "python",
   "nbconvert_exporter": "python",
   "pygments_lexer": "ipython3",
   "version": "3.6.0"
  }
 },
 "nbformat": 4,
 "nbformat_minor": 2
}
