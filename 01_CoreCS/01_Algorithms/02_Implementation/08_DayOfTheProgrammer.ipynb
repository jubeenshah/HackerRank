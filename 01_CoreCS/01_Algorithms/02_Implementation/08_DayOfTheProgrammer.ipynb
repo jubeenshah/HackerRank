{
 "cells": [
  {
   "cell_type": "code",
   "execution_count": 26,
   "metadata": {},
   "outputs": [
    {
     "name": "stdout",
     "output_type": "stream",
     "text": [
      "2018\n",
      "13.09.2018\n"
     ]
    }
   ],
   "source": [
    "yearInput = int(input())\n",
    "calculateDayOfTheProgrammer(yearInput)"
   ]
  },
  {
   "cell_type": "code",
   "execution_count": 23,
   "metadata": {
    "collapsed": true
   },
   "outputs": [],
   "source": [
    "def CheckLeapYear(year):\n",
    "    if year == 1700 or year == 1800 or year == 1900:\n",
    "        return False\n",
    "    \n",
    "    elif (year  % 400 == 0) or (year % 4 == 0 and year % 100 != 0):\n",
    "        return True\n",
    "    else:\n",
    "        return False"
   ]
  },
  {
   "cell_type": "code",
   "execution_count": 24,
   "metadata": {
    "collapsed": true
   },
   "outputs": [],
   "source": [
    "def calculateDayOfTheProgrammer(year):\n",
    "    isYearLeapYear = CheckLeapYear(year)\n",
    "    if year == 1700 or year == 1800 or year == 1900:\n",
    "        print(\"12.09.\"+str(year))\n",
    "    elif year == 1918:\n",
    "        print(\"26.09.1918\")\n",
    "    elif isYearLeapYear:\n",
    "        print(\"12.09.\"+str(year))\n",
    "    else:\n",
    "        print(\"13.09.\"+str(year))"
   ]
  }
 ],
 "metadata": {
  "kernelspec": {
   "display_name": "Python 3",
   "language": "python",
   "name": "python3"
  },
  "language_info": {
   "codemirror_mode": {
    "name": "ipython",
    "version": 3
   },
   "file_extension": ".py",
   "mimetype": "text/x-python",
   "name": "python",
   "nbconvert_exporter": "python",
   "pygments_lexer": "ipython3",
   "version": "3.6.0"
  }
 },
 "nbformat": 4,
 "nbformat_minor": 2
}
