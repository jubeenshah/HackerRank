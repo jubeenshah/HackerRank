{
 "cells": [
  {
   "cell_type": "code",
   "execution_count": 2,
   "metadata": {},
   "outputs": [
    {
     "name": "stdout",
     "output_type": "stream",
     "text": [
      "10\n",
      "1 2 2 3 4 5 2 8 9 10\n"
     ]
    }
   ],
   "source": [
    "TotalNumberOfStudent = int(input())\n",
    "listOfStudentVoices = list(map(int, input().split()))\n"
   ]
  },
  {
   "cell_type": "code",
   "execution_count": 7,
   "metadata": {},
   "outputs": [],
   "source": [
    "StringToPrint = \"\"\n",
    "for i in range(1,TotalNumberOfStudent+1):\n",
    "    if i not in listOfStudentVoices:\n",
    "        StringToPrint = str(i) + \" \"\n",
    "\n",
    "return StringToPrint"
   ]
  },
  {
   "cell_type": "code",
   "execution_count": 15,
   "metadata": {
    "collapsed": true
   },
   "outputs": [],
   "source": [
    "#!/bin/python3\n",
    "\n",
    "import os\n",
    "import sys\n",
    "\n",
    "# Complete the findTheAbsentStudents function below.\n",
    "def findTheAbsentStudents(n, a):\n",
    "    StringToPrint = \"\"\n",
    "    for i in range(1,TotalNumberOfStudent+1):\n",
    "        if i not in listOfStudentVoices:\n",
    "            print(i, end = \" \")"
   ]
  },
  {
   "cell_type": "code",
   "execution_count": 16,
   "metadata": {},
   "outputs": [
    {
     "name": "stdout",
     "output_type": "stream",
     "text": [
      "10\n",
      "1 2 2 3 4 5 2 8 9 10\n",
      "6 7 "
     ]
    }
   ],
   "source": [
    "if __name__ == '__main__':\n",
    "    \n",
    "\n",
    "    TotalNumberOfStudent = int(input())\n",
    "    listOfStudentVoices = list(map(int, input().split()))\n",
    "    \n",
    "    findTheAbsentStudents(TotalNumberOfStudent, listOfStudentVoices)\n",
    "    "
   ]
  },
  {
   "cell_type": "code",
   "execution_count": null,
   "metadata": {
    "collapsed": true
   },
   "outputs": [],
   "source": []
  }
 ],
 "metadata": {
  "kernelspec": {
   "display_name": "Python 3",
   "language": "python",
   "name": "python3"
  },
  "language_info": {
   "codemirror_mode": {
    "name": "ipython",
    "version": 3
   },
   "file_extension": ".py",
   "mimetype": "text/x-python",
   "name": "python",
   "nbconvert_exporter": "python",
   "pygments_lexer": "ipython3",
   "version": "3.6.0"
  }
 },
 "nbformat": 4,
 "nbformat_minor": 2
}
