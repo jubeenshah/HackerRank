{
 "cells": [
  {
   "cell_type": "code",
   "execution_count": 13,
   "metadata": {
    "collapsed": false
   },
   "outputs": [
    {
     "name": "stdout",
     "output_type": "stream",
     "text": [
      "1 2 3 4 5\n",
      "10 14\n"
     ]
    }
   ],
   "source": [
    "#!/bin/python3\n",
    "\n",
    "import math\n",
    "import os\n",
    "import random\n",
    "import re\n",
    "import sys\n",
    "\n",
    "# Complete the miniMaxSum function below.\n",
    "def miniMaxSum(arr):\n",
    "    i = 0\n",
    "    temp =0\n",
    "    sumOfElements = 0\n",
    "    listOfSums = []\n",
    "    for element in arr:\n",
    "        temp = arr[i]\n",
    "        arr[i] = 0\n",
    "        listOfSums.append(sum(arr))\n",
    "        arr[i] = temp\n",
    "        i = i + 1\n",
    "    listOfSums = sorted(listOfSums)\n",
    "    print(str(listOfSums[0]) + \" \" + str(listOfSums[len(listOfSums) - 1]))\n",
    "\n",
    "if __name__ == '__main__':\n",
    "    arr = list(map(int, input().rstrip().split()))\n",
    "\n",
    "    miniMaxSum(arr)\n",
    "\n"
   ]
  },
  {
   "cell_type": "code",
   "execution_count": 3,
   "metadata": {
    "collapsed": false
   },
   "outputs": [
    {
     "name": "stdout",
     "output_type": "stream",
     "text": [
      "[1, 2, 3, 4, 5]\n"
     ]
    }
   ],
   "source": [
    "print(arr)"
   ]
  },
  {
   "cell_type": "code",
   "execution_count": 12,
   "metadata": {
    "collapsed": false
   },
   "outputs": [
    {
     "name": "stdout",
     "output_type": "stream",
     "text": [
      "10 14\n"
     ]
    }
   ],
   "source": [
    "i = 0\n",
    "temp =0\n",
    "sumOfElements = 0\n",
    "listOfSums = []\n",
    "for element in arr:\n",
    "    temp = arr[i]\n",
    "    arr[i] = 0\n",
    "    listOfSums.append(sum(arr))\n",
    "    arr[i] = temp\n",
    "    i = i + 1\n",
    "listOfSums = sorted(listOfSums)\n",
    "print(str(listOfSums[0]) + \" \" + str(listOfSums[len(listOfSums) - 1]))"
   ]
  },
  {
   "cell_type": "code",
   "execution_count": null,
   "metadata": {
    "collapsed": true
   },
   "outputs": [],
   "source": []
  }
 ],
 "metadata": {
  "kernelspec": {
   "display_name": "Python 3",
   "language": "python",
   "name": "python3"
  },
  "language_info": {
   "codemirror_mode": {
    "name": "ipython",
    "version": 3
   },
   "file_extension": ".py",
   "mimetype": "text/x-python",
   "name": "python",
   "nbconvert_exporter": "python",
   "pygments_lexer": "ipython3",
   "version": "3.6.0"
  }
 },
 "nbformat": 4,
 "nbformat_minor": 2
}
