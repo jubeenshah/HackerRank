{
 "cells": [
  {
   "cell_type": "code",
   "execution_count": 20,
   "metadata": {
    "collapsed": false
   },
   "outputs": [
    {
     "name": "stdout",
     "output_type": "stream",
     "text": [
      "6\n",
      "6 12 8 10 20 16\n",
      "5 6 7 8 9 10\n"
     ]
    }
   ],
   "source": [
    "from statistics import median\n",
    "numberOfinputs = int(input())\n",
    "arrayOfInput = list(map(int, input().split()))\n",
    "arrayOfWeights = list(map(int, input().split()))"
   ]
  },
  {
   "cell_type": "code",
   "execution_count": 25,
   "metadata": {
    "collapsed": false
   },
   "outputs": [
    {
     "name": "stdout",
     "output_type": "stream",
     "text": [
      "8\n"
     ]
    }
   ],
   "source": [
    "listOfInputs = []\n",
    "element = 0\n",
    "for i in arrayOfWeights:\n",
    "    for j in range(i):\n",
    "        listOfInputs.append(arrayOfInput[element])\n",
    "    element  = element + 1\n",
    "    \n",
    "arrayOfInput = sorted(arrayOfInput)\n",
    "leftPart = []\n",
    "rightPart = []\n",
    "if len(arrayOfInput) % 2 != 0:\n",
    "    leftPart = arrayOfInput[:int(len(arrayOfInput) / 2)]\n",
    "    rightPart = arrayOfInput[int(len(arrayOfInput) / 2) + 1 : ]\n",
    "else:\n",
    "    leftPart = arrayOfInput[: int(len(arrayOfInput) / 2) ]\n",
    "    rightPart = arrayOfInput[int(len(arrayOfInput) / 2) :]  \n",
    "    \n",
    "print(median(rightPart) - median(leftPart))\n",
    "    "
   ]
  },
  {
   "cell_type": "markdown",
   "metadata": {},
   "source": []
  }
 ],
 "metadata": {
  "kernelspec": {
   "display_name": "Python 3",
   "language": "python",
   "name": "python3"
  },
  "language_info": {
   "codemirror_mode": {
    "name": "ipython",
    "version": 3
   },
   "file_extension": ".py",
   "mimetype": "text/x-python",
   "name": "python",
   "nbconvert_exporter": "python",
   "pygments_lexer": "ipython3",
   "version": "3.6.0"
  }
 },
 "nbformat": 4,
 "nbformat_minor": 2
}
