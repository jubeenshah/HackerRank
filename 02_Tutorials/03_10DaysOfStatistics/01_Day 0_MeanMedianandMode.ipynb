{
 "cells": [
  {
   "cell_type": "code",
   "execution_count": 65,
   "metadata": {
    "collapsed": false
   },
   "outputs": [
    {
     "name": "stdout",
     "output_type": "stream",
     "text": [
      "10\n",
      "64630 11735 14216 99233 14470 4978 73429 38120 51135 67060\n"
     ]
    }
   ],
   "source": [
    "from statistics import mode\n",
    "numberOfinputs = int(input())\n",
    "arrayOfInput = list(map(int, input().split()))"
   ]
  },
  {
   "cell_type": "code",
   "execution_count": 66,
   "metadata": {
    "collapsed": false
   },
   "outputs": [
    {
     "name": "stdout",
     "output_type": "stream",
     "text": [
      "43900.6\n"
     ]
    }
   ],
   "source": [
    "mean = sum(arrayOfInput) / len(arrayOfInput)\n",
    "print(\"%.1f\" % mean)"
   ]
  },
  {
   "cell_type": "code",
   "execution_count": 67,
   "metadata": {
    "collapsed": false
   },
   "outputs": [
    {
     "name": "stdout",
     "output_type": "stream",
     "text": [
      "44627.5\n"
     ]
    }
   ],
   "source": [
    "arrayOfInput = sorted(arrayOfInput)\n",
    "if numberOfinputs % 2 == 0:\n",
    "    median = (arrayOfInput[int((numberOfinputs/2))] + arrayOfInput[int((numberOfinputs/2)) - 1]) / 2\n",
    "    print(\"%.1f\" % median)\n",
    "else:\n",
    "    median = arrayOfInput[int((numberOfinputs + 1) /2)]\n",
    "    print(\"%.1f\" % median)\n"
   ]
  },
  {
   "cell_type": "code",
   "execution_count": 70,
   "metadata": {
    "collapsed": false
   },
   "outputs": [
    {
     "name": "stdout",
     "output_type": "stream",
     "text": [
      "4978.0\n"
     ]
    }
   ],
   "source": [
    "print(\"%.1f\" % max(arrayOfInput, key = arrayOfInput.count))"
   ]
  },
  {
   "cell_type": "code",
   "execution_count": 62,
   "metadata": {
    "collapsed": false
   },
   "outputs": [
    {
     "name": "stdout",
     "output_type": "stream",
     "text": [
      "4978 1\n",
      "11735 1\n",
      "14216 1\n",
      "14470 1\n",
      "38120 1\n",
      "51135 1\n",
      "64630 1\n",
      "67060 1\n",
      "73429 1\n",
      "99233 1\n",
      "132123 1\n"
     ]
    }
   ],
   "source": []
  },
  {
   "cell_type": "code",
   "execution_count": null,
   "metadata": {
    "collapsed": true
   },
   "outputs": [],
   "source": []
  }
 ],
 "metadata": {
  "kernelspec": {
   "display_name": "Python 3",
   "language": "python",
   "name": "python3"
  },
  "language_info": {
   "codemirror_mode": {
    "name": "ipython",
    "version": 3
   },
   "file_extension": ".py",
   "mimetype": "text/x-python",
   "name": "python",
   "nbconvert_exporter": "python",
   "pygments_lexer": "ipython3",
   "version": "3.6.0"
  }
 },
 "nbformat": 4,
 "nbformat_minor": 2
}
