{
 "cells": [
  {
   "cell_type": "code",
   "execution_count": 26,
   "metadata": {},
   "outputs": [],
   "source": [
    "def balance(s):  # s is a string of '(' and ')' characters in any order\n",
    "    n = len(s)\n",
    "    #print('original string: %s' % s)\n",
    "\n",
    "  # Mark all matched pairs\n",
    "    marked = n * [ False ]\n",
    "    left_parentheses = []\n",
    "    for i, ch in enumerate(s):\n",
    "        if ch == '(':\n",
    "            left_parentheses.append(i)\n",
    "        else:\n",
    "            if len(left_parentheses) != 0:\n",
    "                marked[i] = True\n",
    "                marked[left_parentheses.pop()] = True\n",
    "\n",
    "  # Display the matched pairs and unmatched characters.\n",
    "    matched, remaining = [], []\n",
    "    for i, ch in enumerate(s):\n",
    "        if marked[i]:\n",
    "            matched.append(ch)\n",
    "            remaining.append(' ')\n",
    "        else:\n",
    "            matched.append(' ')\n",
    "            remaining.append(ch)\n",
    "    #print('  matched pairs: %s' % ''.join(matched))\n",
    "    #print('      unmatched: %s' % ''.join(remaining))\n",
    "\n",
    "    cost = 0\n",
    "    deleted = n * [ False ]\n",
    "    new_chars = list(s)\n",
    "\n",
    "  # Balance the unmatched ')' characters.\n",
    "    right_count, last_right = 0, -1\n",
    "    for i, ch in enumerate(s):\n",
    "        if not marked[i] and ch == ')':\n",
    "            right_count += 1\n",
    "            if right_count % 2 == 1:\n",
    "                new_chars[i] = '('\n",
    "                cost += 1\n",
    "                last_right = i\n",
    "    if right_count % 2 == 1:      # Delete the last ')' if we couldn't match it.\n",
    "        deleted[last_right] = True  # The cost was incremented during replacement.\n",
    "\n",
    "  # Balance the unmatched '(' characters.\n",
    "    left_count, last_left = 0, -1\n",
    "    for i, ch in enumerate(s):\n",
    "        if not marked[i] and ch == '(':\n",
    "            left_count += 1\n",
    "            if left_count % 2 == 0:\n",
    "                new_chars[i] = ')'\n",
    "                cost += 1\n",
    "            else:\n",
    "                last_left = i\n",
    "    if left_count % 2 == 1:      # Delete the last '(' if we couldn't match it.\n",
    "        deleted[last_left] = True  # This character wasn't replaced, so we must\n",
    "        cost += 1                  # increment the cost now.\n",
    "\n",
    "  # Display the outcome of replacing and deleting.\n",
    "    balanced = []\n",
    "    for i, ch in enumerate(new_chars):\n",
    "        if marked[i] or deleted[i]:\n",
    "            balanced.append(' ')\n",
    "        else:\n",
    "            balanced.append(ch)\n",
    "    #print('        balance: %s' % ''.join(balanced))\n",
    "\n",
    "    # Display the cost of balancing and the overall balanced string.\n",
    "    print(cost)\n",
    "    result = []\n",
    "    for i, ch in enumerate(new_chars):\n",
    "        if not deleted[i]:  # Skip deleted characters.\n",
    "            result.append(ch)\n",
    "    #print('     new string: %s' % ''.join(result))"
   ]
  },
  {
   "cell_type": "code",
   "execution_count": 27,
   "metadata": {},
   "outputs": [
    {
     "name": "stdout",
     "output_type": "stream",
     "text": [
      "1\n",
      ")()(()())))()((())((\n",
      "4\n"
     ]
    }
   ],
   "source": [
    "T = int(input())\n",
    "balance(input())"
   ]
  },
  {
   "cell_type": "code",
   "execution_count": null,
   "metadata": {
    "collapsed": true
   },
   "outputs": [],
   "source": []
  }
 ],
 "metadata": {
  "kernelspec": {
   "display_name": "Python 3",
   "language": "python",
   "name": "python3"
  },
  "language_info": {
   "codemirror_mode": {
    "name": "ipython",
    "version": 3
   },
   "file_extension": ".py",
   "mimetype": "text/x-python",
   "name": "python",
   "nbconvert_exporter": "python",
   "pygments_lexer": "ipython3",
   "version": "3.6.0"
  }
 },
 "nbformat": 4,
 "nbformat_minor": 2
}
