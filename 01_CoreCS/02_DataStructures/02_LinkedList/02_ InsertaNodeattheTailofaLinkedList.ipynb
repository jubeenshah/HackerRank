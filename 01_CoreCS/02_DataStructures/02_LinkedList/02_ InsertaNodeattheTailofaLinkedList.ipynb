{
 "cells": [
  {
   "cell_type": "code",
   "execution_count": null,
   "metadata": {
    "collapsed": true
   },
   "outputs": [],
   "source": [
    "def Insert(head, data):\n",
    "    if head == None:\n",
    "        return Node(data, None)\n",
    "    else:\n",
    "        if head.next == None:\n",
    "            head.next = Node(data,None)\n",
    "        else:\n",
    "            Insert(head.next,data)\n",
    "        return head"
   ]
  }
 ],
 "metadata": {
  "kernelspec": {
   "display_name": "Python 3",
   "language": "python",
   "name": "python3"
  },
  "language_info": {
   "codemirror_mode": {
    "name": "ipython",
    "version": 3
   },
   "file_extension": ".py",
   "mimetype": "text/x-python",
   "name": "python",
   "nbconvert_exporter": "python",
   "pygments_lexer": "ipython3",
   "version": "3.6.0"
  }
 },
 "nbformat": 4,
 "nbformat_minor": 2
}
