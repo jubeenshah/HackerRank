{
 "cells": [
  {
   "cell_type": "code",
   "execution_count": 5,
   "metadata": {},
   "outputs": [
    {
     "name": "stdout",
     "output_type": "stream",
     "text": [
      "1\n",
      "5 100000000 99999999\n",
      "1 0 3 0 4\n",
      "0\n"
     ]
    }
   ],
   "source": [
    "import itertools\n",
    "from functools import reduce\n",
    "\n",
    "def allSubArrays2(xs):\n",
    "    n = len(xs)\n",
    "    indices = list(range(n+1))\n",
    "    for i,j in itertools.combinations(indices,2):\n",
    "        yield xs[i:j]\n",
    "        \n",
    "def howManyGoodSubarrays6(A, m, k):\n",
    "    numberOfGoodSubArray = 0\n",
    "    for i in list(allSubArrays2(A)):\n",
    "        product = 1\n",
    "        product = product = reduce(lambda x, y: x*y, i)\n",
    "        if product % m == k:\n",
    "            numberOfGoodSubArray = numberOfGoodSubArray + 1\n",
    "    print(numberOfGoodSubArray)\n",
    "\n",
    "numberOfTestCases = int(input())\n",
    "for _ in range(numberOfTestCases):\n",
    "    nmk = list(map(int,input().split()))\n",
    "    n, m, k= nmk[0], nmk[1], nmk[2]\n",
    "    A = list(map(int, input().rstrip().split()))\n",
    "    result = howManyGoodSubarrays6(A, m, k) "
   ]
  },
  {
   "cell_type": "code",
   "execution_count": null,
   "metadata": {
    "collapsed": true
   },
   "outputs": [],
   "source": []
  }
 ],
 "metadata": {
  "kernelspec": {
   "display_name": "Python 3",
   "language": "python",
   "name": "python3"
  },
  "language_info": {
   "codemirror_mode": {
    "name": "ipython",
    "version": 3
   },
   "file_extension": ".py",
   "mimetype": "text/x-python",
   "name": "python",
   "nbconvert_exporter": "python",
   "pygments_lexer": "ipython3",
   "version": "3.6.0"
  }
 },
 "nbformat": 4,
 "nbformat_minor": 2
}
