{
 "cells": [
  {
   "cell_type": "code",
   "execution_count": 13,
   "metadata": {},
   "outputs": [
    {
     "name": "stdout",
     "output_type": "stream",
     "text": [
      "10 2 3\n",
      "3 1\n",
      "5 2 8\n",
      "9\n"
     ]
    }
   ],
   "source": [
    "bnm = input().split()\n",
    "\n",
    "b = int(bnm[0])\n",
    "\n",
    "n = int(bnm[1])\n",
    "\n",
    "m = int(bnm[2])\n",
    "\n",
    "keyboards = list(map(int, input().rstrip().split()))\n",
    "\n",
    "drives = list(map(int, input().rstrip().split()))\n",
    "\n",
    "calculateMoneySpent(keyboards, drives, b)"
   ]
  },
  {
   "cell_type": "code",
   "execution_count": 11,
   "metadata": {
    "collapsed": true
   },
   "outputs": [],
   "source": [
    "\n",
    "def calculateMoneySpent(keyboards, drives, b):\n",
    "    listOfpotentialExpenditure = []\n",
    "    for keyboard in keyboards:\n",
    "        moneySpent = 0\n",
    "        for drive in drives:\n",
    "            moneySpent = keyboard + drive\n",
    "            if moneySpent <= b: listOfpotentialExpenditure.append(moneySpent)\n",
    "    if len(listOfpotentialExpenditure) != 0: print(max(listOfpotentialExpenditure))\n",
    "    else: print(\"-1\")"
   ]
  },
  {
   "cell_type": "code",
   "execution_count": null,
   "metadata": {
    "collapsed": true
   },
   "outputs": [],
   "source": []
  }
 ],
 "metadata": {
  "kernelspec": {
   "display_name": "Python 3",
   "language": "python",
   "name": "python3"
  },
  "language_info": {
   "codemirror_mode": {
    "name": "ipython",
    "version": 3
   },
   "file_extension": ".py",
   "mimetype": "text/x-python",
   "name": "python",
   "nbconvert_exporter": "python",
   "pygments_lexer": "ipython3",
   "version": "3.6.0"
  }
 },
 "nbformat": 4,
 "nbformat_minor": 2
}
