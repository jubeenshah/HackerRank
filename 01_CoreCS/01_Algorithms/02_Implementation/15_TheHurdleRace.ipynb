{
 "cells": [
  {
   "cell_type": "code",
   "execution_count": 11,
   "metadata": {},
   "outputs": [
    {
     "name": "stdout",
     "output_type": "stream",
     "text": [
      "100 87\n",
      "56 61 6 83 54 85 43 21 63 76 79 39 78 84 71 10 86 58 2 35 71 23 46 21 61 64 54 6 16 36 22 3 37 25 71 66 9 80 51 58 63 84 64 38 66 19 47 16 66 57 73 77 13 22 79 14 5 86 5 28 81 85 59 28 67 53 74 47 50 70 17 61 33 38 52 64 84 51 3 58 68 80 68 38 56 12 69 34 21 19 83 8 84 27 5 39 5 7 44 74\n",
      "0\n"
     ]
    }
   ],
   "source": [
    "nk, arrayOfHurdles = list(map(int, input().split())), list(map(int, input().split()))\n",
    "numberOfHurdles,maximumHeight,potionsToDrink = nk[0], nk[1], [0]\n",
    "for hurdle in arrayOfHurdles:\n",
    "    if hurdle <= maximumHeight: continue\n",
    "    else: potionsToDrink.append(hurdle - maximumHeight)\n",
    "print(max(potionsToDrink))    "
   ]
  },
  {
   "cell_type": "code",
   "execution_count": 10,
   "metadata": {},
   "outputs": [
    {
     "name": "stdout",
     "output_type": "stream",
     "text": [
      "0\n"
     ]
    }
   ],
   "source": []
  }
 ],
 "metadata": {
  "kernelspec": {
   "display_name": "Python 3",
   "language": "python",
   "name": "python3"
  },
  "language_info": {
   "codemirror_mode": {
    "name": "ipython",
    "version": 3
   },
   "file_extension": ".py",
   "mimetype": "text/x-python",
   "name": "python",
   "nbconvert_exporter": "python",
   "pygments_lexer": "ipython3",
   "version": "3.6.0"
  }
 },
 "nbformat": 4,
 "nbformat_minor": 2
}
