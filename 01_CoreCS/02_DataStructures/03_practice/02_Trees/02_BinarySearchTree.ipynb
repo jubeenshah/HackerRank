{
 "cells": [
  {
   "cell_type": "markdown",
   "metadata": {},
   "source": [
    "# Binary Search Tree (BST)\n",
    "\n",
    "A Binary Search Tree (BST) is a tree in which all the nodes follow the below-mentioned properties − The left sub-tree of a node has a key less than or equal to its parent node's key. The right sub-tree of a node has a key greater than to its parent node's key. Thus, BST divides all its sub-trees into two segments; the left sub-tree and the right sub-tree and can be defined as –\n",
    "\n",
    "### <center>Left_subtree ≤ node (key) ≤ Right_subtree\n",
    "\n",
    "## Searching for a value in a B-tree\n",
    "\n",
    "Searching for a value in a tree involves comparing the incoming value with the value exiting nodes. Here also we traverse the nodes from left to right and then finally with the parent. If the searched for value does not match any of the exitign value, then we return not found message else the found message is returned."
   ]
  },
  {
   "cell_type": "code",
   "execution_count": 32,
   "metadata": {},
   "outputs": [
    {
     "name": "stdout",
     "output_type": "stream",
     "text": [
      "Enter Root Node: 12\n",
      "Enter a number to insert in the Tree (Enter 0 to exit Loop): 6\n",
      "Enter a number to insert in the Tree (Enter 0 to exit Loop): 14\n",
      "Enter a number to insert in the Tree (Enter 0 to exit Loop): 3\n",
      "Enter a number to insert in the Tree (Enter 0 to exit Loop): 0\n",
      "Enter a number to find in the Tree (Enter 0 to exit Loop): 7\n",
      "7 Not Found\n",
      "Enter a number to find in the Tree (Enter 0 to exit Loop): 14\n",
      "14 is Found\n",
      "\n",
      "Enter a number to find in the Tree (Enter 0 to exit Loop): 0\n",
      "0 is Found\n",
      "\n"
     ]
    }
   ],
   "source": [
    "class Node:\n",
    "    \n",
    "    def __init__ (self, data):\n",
    "        self.left  = None\n",
    "        self.right = None\n",
    "        self.data  = data\n",
    "        \n",
    "    def insert(self, data):\n",
    "        if self.data:\n",
    "            if data < self.data:\n",
    "                if self.left is None:\n",
    "                    self.left = Node(data)\n",
    "                else:\n",
    "                    self.left.insert(data)\n",
    "            elif data > self.data:\n",
    "                if self.right is None:\n",
    "                    self.right = Node(data)\n",
    "                else:\n",
    "                    self.right.insert(data)\n",
    "            else:\n",
    "                self.data = data\n",
    "                \n",
    "    def findValue(self, valueToFind):\n",
    "        if valueToFind < self.data:\n",
    "            if self.left is None:\n",
    "                return str(valueToFind) + \" Not Found\"\n",
    "            return self.left.findValue(valueToFind)\n",
    "        elif valueToFind > self.data:\n",
    "            if self.right is None:\n",
    "                return str(valueToFind) + \" Not Found\"\n",
    "            return self.right.findValue(valueToFind)\n",
    "        else:\n",
    "            print(str(self.data) + \" is Found\")\n",
    "            return \"\"\n",
    "        \n",
    "    def printTree(self):\n",
    "        if self.left:\n",
    "            self.left.printTree()\n",
    "        print(self.data)\n",
    "        if self.right:\n",
    "            self.right.printTree()\n",
    "root = Node(int(input(\"Enter Root Node: \")))\n",
    "checkInput = 99\n",
    "\n",
    "while checkInput != 0:\n",
    "    checkInput = int(input(\"Enter a number to insert in the Tree (Enter 0 to exit Loop): \"))\n",
    "    root.insert(checkInput)\n",
    "checkInput = 99\n",
    "while checkInput != 0:\n",
    "    checkInput = int(input(\"Enter a number to find in the Tree (Enter 0 to exit Loop): \"))\n",
    "    print(root.findValue(checkInput))\n",
    "    "
   ]
  }
 ],
 "metadata": {
  "kernelspec": {
   "display_name": "Python 3",
   "language": "python",
   "name": "python3"
  },
  "language_info": {
   "codemirror_mode": {
    "name": "ipython",
    "version": 3
   },
   "file_extension": ".py",
   "mimetype": "text/x-python",
   "name": "python",
   "nbconvert_exporter": "python",
   "pygments_lexer": "ipython3",
   "version": "3.6.0"
  }
 },
 "nbformat": 4,
 "nbformat_minor": 2
}
