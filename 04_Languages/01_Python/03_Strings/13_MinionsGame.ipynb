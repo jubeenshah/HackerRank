{
 "cells": [
  {
   "cell_type": "code",
   "execution_count": 13,
   "metadata": {
    "collapsed": true
   },
   "outputs": [],
   "source": [
    "kevinSc = 0\n",
    "sturtSc = 0"
   ]
  },
  {
   "cell_type": "code",
   "execution_count": 14,
   "metadata": {
    "collapsed": true
   },
   "outputs": [],
   "source": [
    "vowels = \"AEIOU\""
   ]
  },
  {
   "cell_type": "code",
   "execution_count": null,
   "metadata": {
    "collapsed": true
   },
   "outputs": [],
   "source": [
    "s = input()"
   ]
  },
  {
   "cell_type": "code",
   "execution_count": null,
   "metadata": {
    "collapsed": true
   },
   "outputs": [],
   "source": [
    "s = raw_input()\n",
    "\n",
    "vowels = 'AEIOU'\n",
    "\n",
    "kevsc = 0\n",
    "stusc = 0\n",
    "for i in range(len(s)):\n",
    "    if s[i] in vowels:\n",
    "        kevsc += (len(s)-i)\n",
    "    else:\n",
    "        stusc += (len(s)-i)\n",
    "\n",
    "if kevsc > stusc:\n",
    "    print \"Kevin\", kevsc\n",
    "elif kevsc < stusc:\n",
    "    print \"Stuart\", stusc\n",
    "else:\n",
    "    print \"Draw\""
   ]
  }
 ],
 "metadata": {
  "kernelspec": {
   "display_name": "Python 3",
   "language": "python",
   "name": "python3"
  },
  "language_info": {
   "codemirror_mode": {
    "name": "ipython",
    "version": 3
   },
   "file_extension": ".py",
   "mimetype": "text/x-python",
   "name": "python",
   "nbconvert_exporter": "python",
   "pygments_lexer": "ipython3",
   "version": "3.6.0"
  }
 },
 "nbformat": 4,
 "nbformat_minor": 2
}
