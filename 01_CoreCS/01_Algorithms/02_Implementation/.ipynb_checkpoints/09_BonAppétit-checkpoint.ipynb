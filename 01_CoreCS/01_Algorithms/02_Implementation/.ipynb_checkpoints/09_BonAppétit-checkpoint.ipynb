{
 "cells": [
  {
   "cell_type": "code",
   "execution_count": 12,
   "metadata": {},
   "outputs": [
    {
     "name": "stdout",
     "output_type": "stream",
     "text": [
      "10 8\n",
      "21 2 89 94 33 45 86 22 24 60\n",
      "226\n",
      "Bon Appetit\n"
     ]
    }
   ],
   "source": [
    "def calculateShare(k, bill, b):\n",
    "    total = 0\n",
    "    for item in bill:\n",
    "        total = total + item\n",
    "    share = (total - bill[k]) / 2\n",
    "    isShareCorrect(share, b)\n",
    "    \n",
    "def isShareCorrect(share, b):\n",
    "    if share == b:\n",
    "        print(\"Bon Appetit\")\n",
    "    else:\n",
    "        print(int(b - share))\n",
    "    \n",
    "nk, bill, b = list(map(int, input().split())), list(map(int, input().split())), int(input())\n",
    "n = nk[0]\n",
    "k = nk[1]\n",
    "calculateShare(k,bill,b)    "
   ]
  }
 ],
 "metadata": {
  "kernelspec": {
   "display_name": "Python 3",
   "language": "python",
   "name": "python3"
  },
  "language_info": {
   "codemirror_mode": {
    "name": "ipython",
    "version": 3
   },
   "file_extension": ".py",
   "mimetype": "text/x-python",
   "name": "python",
   "nbconvert_exporter": "python",
   "pygments_lexer": "ipython3",
   "version": "3.6.0"
  }
 },
 "nbformat": 4,
 "nbformat_minor": 2
}
