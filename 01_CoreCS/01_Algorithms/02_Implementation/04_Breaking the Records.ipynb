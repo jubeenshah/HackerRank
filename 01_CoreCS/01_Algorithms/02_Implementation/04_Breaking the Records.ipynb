{
 "cells": [
  {
   "cell_type": "code",
   "execution_count": 35,
   "metadata": {
    "collapsed": false
   },
   "outputs": [
    {
     "name": "stdout",
     "output_type": "stream",
     "text": [
      "6\n",
      "0 9 3 10 2 20\n",
      "3 0\n"
     ]
    }
   ],
   "source": [
    "numberOfGames = int(input())\n",
    "listofScores = list(map(int, input().split()))\n",
    "breakingRecords(numberOfGames,listofScores)"
   ]
  },
  {
   "cell_type": "code",
   "execution_count": 34,
   "metadata": {
    "collapsed": false
   },
   "outputs": [],
   "source": [
    "def breakingRecords(numberOfGames,listofScores):\n",
    "    numberOfHighScoresBroken = 0\n",
    "    numberOfLowScoresBroken = 0\n",
    "    currentMax = listofScores[0]\n",
    "    currentMin = listofScores[0]\n",
    "    for i in listofScores:\n",
    "        if i > currentMax:\n",
    "            numberOfHighScoresBroken = numberOfHighScoresBroken + 1\n",
    "            currentMax = i\n",
    "    \n",
    "\n",
    "    for i in listofScores:\n",
    "        if i < currentMin:\n",
    "            numberOfLowScoresBroken = numberOfLowScoresBroken + 1\n",
    "            currentMin = i\n",
    "    print(numberOfHighScoresBroken, numberOfLowScoresBroken)\n",
    "    "
   ]
  },
  {
   "cell_type": "code",
   "execution_count": null,
   "metadata": {
    "collapsed": true
   },
   "outputs": [],
   "source": []
  }
 ],
 "metadata": {
  "kernelspec": {
   "display_name": "Python 3",
   "language": "python",
   "name": "python3"
  },
  "language_info": {
   "codemirror_mode": {
    "name": "ipython",
    "version": 3
   },
   "file_extension": ".py",
   "mimetype": "text/x-python",
   "name": "python",
   "nbconvert_exporter": "python",
   "pygments_lexer": "ipython3",
   "version": "3.6.0"
  }
 },
 "nbformat": 4,
 "nbformat_minor": 2
}
