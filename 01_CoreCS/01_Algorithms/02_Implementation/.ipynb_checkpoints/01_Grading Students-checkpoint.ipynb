{
 "cells": [
  {
   "cell_type": "code",
   "execution_count": 25,
   "metadata": {
    "collapsed": false
   },
   "outputs": [
    {
     "name": "stdout",
     "output_type": "stream",
     "text": [
      "4\n",
      "67\n",
      "67\n",
      "68\n",
      "70\n",
      "38\n",
      "40\n",
      "45\n",
      "45\n"
     ]
    }
   ],
   "source": [
    "numberOfStudent = int(input())\n",
    "for i in range(numberOfStudent):\n",
    "    marksOfStudent = int(input())\n",
    "    roundedOffMarks = calculateGrade(marksOfStudent)\n",
    "    print(roundedOffMarks)"
   ]
  },
  {
   "cell_type": "code",
   "execution_count": 19,
   "metadata": {
    "collapsed": true
   },
   "outputs": [],
   "source": [
    "def calculateGrade(marks):\n",
    "    if marks < 38:\n",
    "        return marks\n",
    "    else:\n",
    "        if ((5 - (marks % 5))) < 3:\n",
    "            return marks+(5-(marks%5))\n",
    "        else:\n",
    "            return marks"
   ]
  }
 ],
 "metadata": {
  "kernelspec": {
   "display_name": "Python 3",
   "language": "python",
   "name": "python3"
  },
  "language_info": {
   "codemirror_mode": {
    "name": "ipython",
    "version": 3
   },
   "file_extension": ".py",
   "mimetype": "text/x-python",
   "name": "python",
   "nbconvert_exporter": "python",
   "pygments_lexer": "ipython3",
   "version": "3.6.0"
  }
 },
 "nbformat": 4,
 "nbformat_minor": 2
}
