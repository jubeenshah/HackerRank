{
 "cells": [
  {
   "cell_type": "code",
   "execution_count": 11,
   "metadata": {
    "collapsed": false
   },
   "outputs": [
    {
     "name": "stdout",
     "output_type": "stream",
     "text": [
      "2 3\n",
      "1 5\n",
      "1 1\n",
      "-2\n",
      "-1\n",
      "0\n",
      "0\n"
     ]
    }
   ],
   "source": [
    "st = list(map(int, input().split()))\n",
    "s,t = st[0], st[1]\n",
    "\n",
    "ab = list(map(int, input().split()))\n",
    "a,b = ab [0], ab[1]\n",
    "\n",
    "mn = list(map(int, input().split()))\n",
    "m,n = mn[0], mn[1]\n",
    "\n",
    "distanceOfApples = list(map(int, input().split()))\n",
    "distanceOfOranges = list(map(int, input().split()))\n",
    "\n",
    "countApplesAndOranges(a,b,s,t, distanceOfApples, distanceOfOranges)"
   ]
  },
  {
   "cell_type": "code",
   "execution_count": 10,
   "metadata": {
    "collapsed": false
   },
   "outputs": [],
   "source": [
    "def countApplesAndOranges(a,b,s,t, distanceOfApples, distanceOfOranges):\n",
    "    countOfApples = 0\n",
    "    for distance in distanceOfApples:\n",
    "        if (distance + a) >= s and (distance + a) <= t:\n",
    "            countOfApples = countOfApples + 1\n",
    "    print(countOfApples)\n",
    "    countOfOranges = 0\n",
    "    for distance in distanceOfOranges:\n",
    "        if (distance + b) >= s and (distance + b) <= t:\n",
    "            countOfOranges = countOfOranges + 1\n",
    "    print(countOfOranges)"
   ]
  },
  {
   "cell_type": "code",
   "execution_count": null,
   "metadata": {
    "collapsed": true
   },
   "outputs": [],
   "source": []
  }
 ],
 "metadata": {
  "kernelspec": {
   "display_name": "Python 3",
   "language": "python",
   "name": "python3"
  },
  "language_info": {
   "codemirror_mode": {
    "name": "ipython",
    "version": 3
   },
   "file_extension": ".py",
   "mimetype": "text/x-python",
   "name": "python",
   "nbconvert_exporter": "python",
   "pygments_lexer": "ipython3",
   "version": "3.6.0"
  }
 },
 "nbformat": 4,
 "nbformat_minor": 2
}
