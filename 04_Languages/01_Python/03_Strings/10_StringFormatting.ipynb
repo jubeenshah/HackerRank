{
 "cells": [
  {
   "cell_type": "code",
   "execution_count": 13,
   "metadata": {
    "collapsed": true
   },
   "outputs": [],
   "source": [
    "n = 17"
   ]
  },
  {
   "cell_type": "code",
   "execution_count": 14,
   "metadata": {
    "collapsed": false
   },
   "outputs": [
    {
     "name": "stdout",
     "output_type": "stream",
     "text": [
      "21\n"
     ]
    }
   ],
   "source": [
    "a = oct(n)\n",
    "print(a.strip(\"0o\"))"
   ]
  },
  {
   "cell_type": "code",
   "execution_count": 18,
   "metadata": {
    "collapsed": false
   },
   "outputs": [
    {
     "name": "stdout",
     "output_type": "stream",
     "text": [
      "11\n"
     ]
    }
   ],
   "source": [
    "a = hex(n)\n",
    "print(a.strip(\"0x\"))"
   ]
  },
  {
   "cell_type": "code",
   "execution_count": 21,
   "metadata": {
    "collapsed": false
   },
   "outputs": [
    {
     "name": "stdout",
     "output_type": "stream",
     "text": [
      "10001\n"
     ]
    }
   ],
   "source": [
    "a = bin(n)\n",
    "print(a.strip(\"0b\"))"
   ]
  },
  {
   "cell_type": "code",
   "execution_count": 31,
   "metadata": {
    "collapsed": false
   },
   "outputs": [
    {
     "name": "stdout",
     "output_type": "stream",
     "text": [
      "1 1 <built-in method upper of str object at 0x1100abc38> 1\n",
      "\n",
      "2 2 <built-in method upper of str object at 0x1100abca8> 1\n",
      "\n",
      "3 3 <built-in method upper of str object at 0x1100b1030> 11\n",
      "\n",
      "4 4 <built-in method upper of str object at 0x1100b1068> 1\n",
      "\n",
      "5 5 <built-in method upper of str object at 0x10ffd98b8> 101\n",
      "\n",
      "6 6 <built-in method upper of str object at 0x1100b1650> 11\n",
      "\n",
      "7 7 <built-in method upper of str object at 0x1100b1688> 111\n",
      "\n",
      "8 1 <built-in method upper of str object at 0x10fef5618> 1\n",
      "\n",
      "9 11 <built-in method upper of str object at 0x1100b16c0> 1001\n",
      "\n",
      "10 12 <built-in method upper of str object at 0x10ff8a5a8> 101\n",
      "\n",
      "11 13 <built-in method upper of str object at 0x10ff04420> 1011\n",
      "\n",
      "12 14 <built-in method upper of str object at 0x10fef53e8> 11\n",
      "\n",
      "13 15 <built-in method upper of str object at 0x10ff31298> 1101\n",
      "\n",
      "14 16 <built-in method upper of str object at 0x10ff1fb20> 111\n",
      "\n",
      "15 17 <built-in method upper of str object at 0x10fe76180> 1111\n",
      "\n",
      "16 2 <built-in method upper of str object at 0x1100abc38> 1\n",
      "\n",
      "17 21 <built-in method upper of str object at 0x111cc6618> 10001\n",
      "\n"
     ]
    }
   ],
   "source": [
    "for i in range(1, n+1):\n",
    "    decimal = i\n",
    "    octal = oct(i)\n",
    "    octal = octal.strip(\"0o\")\n",
    "    hexadecimal = hex(i)\n",
    "    hexadecimal = (hexadecimal.strip(\"0x\")).upper\n",
    "    binary = bin(i)\n",
    "    binary = binary.strip(\"0b\")\n",
    "    print(str(octal), str(hexadecimal, binary)\n",
    "    print()"
   ]
  },
  {
   "cell_type": "code",
   "execution_count": null,
   "metadata": {
    "collapsed": true
   },
   "outputs": [],
   "source": []
  }
 ],
 "metadata": {
  "kernelspec": {
   "display_name": "Python 3",
   "language": "python",
   "name": "python3"
  },
  "language_info": {
   "codemirror_mode": {
    "name": "ipython",
    "version": 3
   },
   "file_extension": ".py",
   "mimetype": "text/x-python",
   "name": "python",
   "nbconvert_exporter": "python",
   "pygments_lexer": "ipython3",
   "version": "3.6.0"
  }
 },
 "nbformat": 4,
 "nbformat_minor": 2
}
