{
 "cells": [
  {
   "cell_type": "code",
   "execution_count": 1,
   "metadata": {
    "collapsed": false
   },
   "outputs": [
    {
     "name": "stdout",
     "output_type": "stream",
     "text": [
      "2\n",
      "0 0 1 1\n",
      "2 2\n",
      "1 1 2 2\n",
      "3 3\n"
     ]
    }
   ],
   "source": [
    "#!/bin/python3\n",
    "\n",
    "import os\n",
    "import sys\n",
    "\n",
    "#\n",
    "# Complete the findPoint function below.\n",
    "#\n",
    "def findPoint(px, py, qx, qy):\n",
    "    print(str(2 * qx - px) + \" \" + str(2 * qy - py))\n",
    "\n",
    "if __name__ == '__main__':\n",
    "\n",
    "    n = int(input())\n",
    "\n",
    "    for n_itr in range(n):\n",
    "        pxPyQxQy = input().split()\n",
    "\n",
    "        px = int(pxPyQxQy[0])\n",
    "\n",
    "        py = int(pxPyQxQy[1])\n",
    "\n",
    "        qx = int(pxPyQxQy[2])\n",
    "\n",
    "        qy = int(pxPyQxQy[3])\n",
    "\n",
    "        result = findPoint(px, py, qx, qy)\n",
    "\n"
   ]
  },
  {
   "cell_type": "code",
   "execution_count": null,
   "metadata": {
    "collapsed": true
   },
   "outputs": [],
   "source": []
  }
 ],
 "metadata": {
  "kernelspec": {
   "display_name": "Python 3",
   "language": "python",
   "name": "python3"
  },
  "language_info": {
   "codemirror_mode": {
    "name": "ipython",
    "version": 3
   },
   "file_extension": ".py",
   "mimetype": "text/x-python",
   "name": "python",
   "nbconvert_exporter": "python",
   "pygments_lexer": "ipython3",
   "version": "3.6.0"
  }
 },
 "nbformat": 4,
 "nbformat_minor": 2
}
